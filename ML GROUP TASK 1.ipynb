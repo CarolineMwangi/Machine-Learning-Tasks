{
 "cells": [
  {
   "cell_type": "markdown",
   "id": "04da67e6",
   "metadata": {},
   "source": [
    "PREPARE DATASET AND FILL MISSING VALUES"
   ]
  },
  {
   "cell_type": "code",
   "execution_count": 205,
   "id": "a7953210",
   "metadata": {},
   "outputs": [],
   "source": [
    "# Necessary Libraries for the task\n",
    "import numpy as np\n",
    "import pandas as pd\n",
    "import matplotlib.pyplot as plt\n",
    "from sklearn import linear_model, metrics\n",
    "from sklearn.preprocessing import StandardScaler\n",
    "from sklearn.decomposition import PCA\n",
    "from sklearn.linear_model import Lasso, LassoCV, LogisticRegression\n",
    "from sklearn.model_selection import train_test_split,KFold,cross_val_score,GridSearchCV,RandomizedSearchCV\n",
    "from sklearn.feature_selection import SelectFromModel"
   ]
  },
  {
   "cell_type": "code",
   "execution_count": 206,
   "id": "b935271f",
   "metadata": {},
   "outputs": [
    {
     "data": {
      "text/plain": [
       "(1460, 77)"
      ]
     },
     "execution_count": 206,
     "metadata": {},
     "output_type": "execute_result"
    }
   ],
   "source": [
    "# Reading the dataset from the given csv file\n",
    "dataset = pd.read_csv(r'Downloads\\modified_data.csv')\n",
    "dataset.shape"
   ]
  },
  {
   "cell_type": "code",
   "execution_count": 207,
   "id": "c59f7cce",
   "metadata": {},
   "outputs": [
    {
     "name": "stdout",
     "output_type": "stream",
     "text": [
      "Index(['LotFrontage', 'MasVnrType', 'MasVnrArea', 'BsmtQual', 'BsmtCond',\n",
      "       'BsmtExposure', 'BsmtFinType1', 'BsmtFinType2', 'Electrical',\n",
      "       'FireplaceQu', 'GarageType', 'GarageYrBlt', 'GarageFinish',\n",
      "       'GarageQual', 'GarageCond'],\n",
      "      dtype='object')\n"
     ]
    }
   ],
   "source": [
    "# Checking for columns with missing values\n",
    "missing_values = dataset.columns[dataset.isna().any()]\n",
    "print(missing_values)"
   ]
  },
  {
   "cell_type": "code",
   "execution_count": 208,
   "id": "b5e778ac",
   "metadata": {},
   "outputs": [
    {
     "name": "stdout",
     "output_type": "stream",
     "text": [
      "LotFrontage  17.73972602739726\n",
      "MasVnrType  0.547945205479452\n",
      "MasVnrArea  0.547945205479452\n",
      "BsmtQual  2.5342465753424657\n",
      "BsmtCond  2.5342465753424657\n",
      "BsmtExposure  2.6027397260273974\n",
      "BsmtFinType1  2.5342465753424657\n",
      "BsmtFinType2  2.6027397260273974\n",
      "Electrical  0.0684931506849315\n",
      "FireplaceQu  47.26027397260274\n",
      "GarageType  5.5479452054794525\n",
      "GarageYrBlt  5.5479452054794525\n",
      "GarageFinish  5.5479452054794525\n",
      "GarageQual  5.5479452054794525\n",
      "GarageCond  5.5479452054794525\n"
     ]
    }
   ],
   "source": [
    "# Percentages of missing values in the above columns\n",
    "missing_columns = list(missing_values)\n",
    "for column in missing_columns:\n",
    "    print(column, '', (dataset[column].isna().sum())/len(dataset) * 100)"
   ]
  },
  {
   "cell_type": "code",
   "execution_count": 209,
   "id": "8f46a320",
   "metadata": {},
   "outputs": [
    {
     "data": {
      "text/plain": [
       "(1460, 77)"
      ]
     },
     "execution_count": 209,
     "metadata": {},
     "output_type": "execute_result"
    }
   ],
   "source": [
    "# Drop features with more than 50% of missing values\n",
    "dataset.dropna(axis=1,thresh=0.5*(len(dataset)),inplace=True)\n",
    "dataset.shape\n",
    "# No column is dropped"
   ]
  },
  {
   "cell_type": "code",
   "execution_count": 210,
   "id": "dd3b9d72",
   "metadata": {},
   "outputs": [],
   "source": [
    "# Cloumns filled with mean\n",
    "col_mean=['LotFrontage', 'MasVnrArea']\n",
    "for column in col_mean:\n",
    "    dataset[column].fillna(dataset[column].mean(),inplace=True)"
   ]
  },
  {
   "cell_type": "code",
   "execution_count": 211,
   "id": "9589e706",
   "metadata": {},
   "outputs": [],
   "source": [
    "# Columns filled using Backward fill\n",
    "col_back=['FireplaceQu']\n",
    "for column in col_back:\n",
    "    dataset[column].fillna(method='bfill', inplace=True)"
   ]
  },
  {
   "cell_type": "code",
   "execution_count": 212,
   "id": "8fa70f7e",
   "metadata": {},
   "outputs": [],
   "source": [
    "# Columns filled using Forward fill\n",
    "col_forward=list(set(missing_columns)-set(col_mean)-set(col_back))\n",
    "for column in col_forward:\n",
    "    dataset[column].fillna(method='ffill', inplace=True)"
   ]
  },
  {
   "cell_type": "code",
   "execution_count": 213,
   "id": "647a9860",
   "metadata": {},
   "outputs": [
    {
     "data": {
      "text/plain": [
       "Id               False\n",
       "MSSubClass       False\n",
       "MSZoning         False\n",
       "LotFrontage      False\n",
       "LotArea          False\n",
       "                 ...  \n",
       "MoSold           False\n",
       "YrSold           False\n",
       "SaleType         False\n",
       "SaleCondition    False\n",
       "SalePrice        False\n",
       "Length: 77, dtype: bool"
      ]
     },
     "execution_count": 213,
     "metadata": {},
     "output_type": "execute_result"
    }
   ],
   "source": [
    "# Checking if there are stil any missing values\n",
    "dataset.isna().any()"
   ]
  },
  {
   "cell_type": "markdown",
   "id": "94598a61",
   "metadata": {},
   "source": [
    "ENCODING THE DATASET"
   ]
  },
  {
   "cell_type": "code",
   "execution_count": 214,
   "id": "219b1d91",
   "metadata": {},
   "outputs": [
    {
     "data": {
      "text/plain": [
       "Id                 int64\n",
       "MSSubClass         int64\n",
       "MSZoning          object\n",
       "LotFrontage      float64\n",
       "LotArea            int64\n",
       "                  ...   \n",
       "MoSold             int64\n",
       "YrSold             int64\n",
       "SaleType          object\n",
       "SaleCondition     object\n",
       "SalePrice          int64\n",
       "Length: 77, dtype: object"
      ]
     },
     "execution_count": 214,
     "metadata": {},
     "output_type": "execute_result"
    }
   ],
   "source": [
    "# Check feature data types\n",
    "dataset.dtypes"
   ]
  },
  {
   "cell_type": "code",
   "execution_count": 215,
   "id": "eedf4477",
   "metadata": {},
   "outputs": [],
   "source": [
    "# Categorical data in a list\n",
    "cat_data = dataset.select_dtypes(include=['object']).copy()\n",
    "cat_col = list(cat_data.columns)\n",
    "original_col = list(dataset.columns)"
   ]
  },
  {
   "cell_type": "code",
   "execution_count": 216,
   "id": "8a662ff1",
   "metadata": {},
   "outputs": [],
   "source": [
    "# Categorizing data into nominal, ordinal and numerical\n",
    "nominal = ['MSZoning', 'LandContour', 'LotConfig', 'Neighborhood']\n",
    "ordinal = list(set(cat_col)-set(nominal))\n",
    "numerical = list(set(original_col)-set(cat_col))"
   ]
  },
  {
   "cell_type": "code",
   "execution_count": 217,
   "id": "c1a199b1",
   "metadata": {},
   "outputs": [],
   "source": [
    "#Target Feature\n",
    "target=['SalePrice']"
   ]
  },
  {
   "cell_type": "code",
   "execution_count": 218,
   "id": "52aa5667",
   "metadata": {},
   "outputs": [
    {
     "data": {
      "text/plain": [
       "0       5\n",
       "1       2\n",
       "2       5\n",
       "3       5\n",
       "4       5\n",
       "       ..\n",
       "1455    5\n",
       "1456    2\n",
       "1457    5\n",
       "1458    2\n",
       "1459    2\n",
       "Length: 1460, dtype: int8"
      ]
     },
     "execution_count": 218,
     "metadata": {},
     "output_type": "execute_result"
    }
   ],
   "source": [
    "# Encoding Categorical Data\n",
    "dataset['HouseStyle'].astype('category').cat.codes"
   ]
  },
  {
   "cell_type": "code",
   "execution_count": 219,
   "id": "97f01c27",
   "metadata": {},
   "outputs": [],
   "source": [
    "# Encoding ordinal data\n",
    "for column in ordinal:\n",
    "    dataset[column]=(dataset[column].astype('category')).cat.codes\n",
    "\n",
    "df_nominal=pd.get_dummies(dataset[nominal])\n",
    "df_ordinal=dataset[ordinal]\n",
    "df_numerical=dataset[numerical]"
   ]
  },
  {
   "cell_type": "code",
   "execution_count": 220,
   "id": "840a3383",
   "metadata": {},
   "outputs": [
    {
     "data": {
      "text/html": [
       "<div>\n",
       "<style scoped>\n",
       "    .dataframe tbody tr th:only-of-type {\n",
       "        vertical-align: middle;\n",
       "    }\n",
       "\n",
       "    .dataframe tbody tr th {\n",
       "        vertical-align: top;\n",
       "    }\n",
       "\n",
       "    .dataframe thead th {\n",
       "        text-align: right;\n",
       "    }\n",
       "</style>\n",
       "<table border=\"1\" class=\"dataframe\">\n",
       "  <thead>\n",
       "    <tr style=\"text-align: right;\">\n",
       "      <th></th>\n",
       "      <th>MiscVal</th>\n",
       "      <th>BsmtHalfBath</th>\n",
       "      <th>GrLivArea</th>\n",
       "      <th>1stFlrSF</th>\n",
       "      <th>TotRmsAbvGrd</th>\n",
       "      <th>GarageYrBlt</th>\n",
       "      <th>Fireplaces</th>\n",
       "      <th>GarageCars</th>\n",
       "      <th>YearRemodAdd</th>\n",
       "      <th>MSSubClass</th>\n",
       "      <th>...</th>\n",
       "      <th>Street</th>\n",
       "      <th>FireplaceQu</th>\n",
       "      <th>GarageFinish</th>\n",
       "      <th>ExterQual</th>\n",
       "      <th>GarageType</th>\n",
       "      <th>Exterior1st</th>\n",
       "      <th>RoofStyle</th>\n",
       "      <th>Utilities</th>\n",
       "      <th>Exterior2nd</th>\n",
       "      <th>BsmtQual</th>\n",
       "    </tr>\n",
       "  </thead>\n",
       "  <tbody>\n",
       "    <tr>\n",
       "      <th>0</th>\n",
       "      <td>0</td>\n",
       "      <td>0</td>\n",
       "      <td>1710</td>\n",
       "      <td>856</td>\n",
       "      <td>8</td>\n",
       "      <td>2003.0</td>\n",
       "      <td>0</td>\n",
       "      <td>2</td>\n",
       "      <td>2003</td>\n",
       "      <td>60</td>\n",
       "      <td>...</td>\n",
       "      <td>1</td>\n",
       "      <td>4</td>\n",
       "      <td>1</td>\n",
       "      <td>2</td>\n",
       "      <td>1</td>\n",
       "      <td>12</td>\n",
       "      <td>1</td>\n",
       "      <td>0</td>\n",
       "      <td>13</td>\n",
       "      <td>2</td>\n",
       "    </tr>\n",
       "    <tr>\n",
       "      <th>1</th>\n",
       "      <td>0</td>\n",
       "      <td>1</td>\n",
       "      <td>1262</td>\n",
       "      <td>1262</td>\n",
       "      <td>6</td>\n",
       "      <td>1976.0</td>\n",
       "      <td>1</td>\n",
       "      <td>2</td>\n",
       "      <td>1976</td>\n",
       "      <td>20</td>\n",
       "      <td>...</td>\n",
       "      <td>1</td>\n",
       "      <td>4</td>\n",
       "      <td>1</td>\n",
       "      <td>3</td>\n",
       "      <td>1</td>\n",
       "      <td>8</td>\n",
       "      <td>1</td>\n",
       "      <td>0</td>\n",
       "      <td>8</td>\n",
       "      <td>2</td>\n",
       "    </tr>\n",
       "    <tr>\n",
       "      <th>2</th>\n",
       "      <td>0</td>\n",
       "      <td>0</td>\n",
       "      <td>1786</td>\n",
       "      <td>920</td>\n",
       "      <td>6</td>\n",
       "      <td>2001.0</td>\n",
       "      <td>1</td>\n",
       "      <td>2</td>\n",
       "      <td>2002</td>\n",
       "      <td>60</td>\n",
       "      <td>...</td>\n",
       "      <td>1</td>\n",
       "      <td>4</td>\n",
       "      <td>1</td>\n",
       "      <td>2</td>\n",
       "      <td>1</td>\n",
       "      <td>12</td>\n",
       "      <td>1</td>\n",
       "      <td>0</td>\n",
       "      <td>13</td>\n",
       "      <td>2</td>\n",
       "    </tr>\n",
       "    <tr>\n",
       "      <th>3</th>\n",
       "      <td>0</td>\n",
       "      <td>0</td>\n",
       "      <td>1717</td>\n",
       "      <td>961</td>\n",
       "      <td>7</td>\n",
       "      <td>1998.0</td>\n",
       "      <td>1</td>\n",
       "      <td>3</td>\n",
       "      <td>1970</td>\n",
       "      <td>70</td>\n",
       "      <td>...</td>\n",
       "      <td>1</td>\n",
       "      <td>2</td>\n",
       "      <td>2</td>\n",
       "      <td>3</td>\n",
       "      <td>5</td>\n",
       "      <td>13</td>\n",
       "      <td>1</td>\n",
       "      <td>0</td>\n",
       "      <td>15</td>\n",
       "      <td>3</td>\n",
       "    </tr>\n",
       "    <tr>\n",
       "      <th>4</th>\n",
       "      <td>0</td>\n",
       "      <td>0</td>\n",
       "      <td>2198</td>\n",
       "      <td>1145</td>\n",
       "      <td>9</td>\n",
       "      <td>2000.0</td>\n",
       "      <td>1</td>\n",
       "      <td>3</td>\n",
       "      <td>2000</td>\n",
       "      <td>60</td>\n",
       "      <td>...</td>\n",
       "      <td>1</td>\n",
       "      <td>4</td>\n",
       "      <td>1</td>\n",
       "      <td>2</td>\n",
       "      <td>1</td>\n",
       "      <td>12</td>\n",
       "      <td>1</td>\n",
       "      <td>0</td>\n",
       "      <td>13</td>\n",
       "      <td>2</td>\n",
       "    </tr>\n",
       "    <tr>\n",
       "      <th>...</th>\n",
       "      <td>...</td>\n",
       "      <td>...</td>\n",
       "      <td>...</td>\n",
       "      <td>...</td>\n",
       "      <td>...</td>\n",
       "      <td>...</td>\n",
       "      <td>...</td>\n",
       "      <td>...</td>\n",
       "      <td>...</td>\n",
       "      <td>...</td>\n",
       "      <td>...</td>\n",
       "      <td>...</td>\n",
       "      <td>...</td>\n",
       "      <td>...</td>\n",
       "      <td>...</td>\n",
       "      <td>...</td>\n",
       "      <td>...</td>\n",
       "      <td>...</td>\n",
       "      <td>...</td>\n",
       "      <td>...</td>\n",
       "      <td>...</td>\n",
       "    </tr>\n",
       "    <tr>\n",
       "      <th>1455</th>\n",
       "      <td>0</td>\n",
       "      <td>0</td>\n",
       "      <td>1647</td>\n",
       "      <td>953</td>\n",
       "      <td>7</td>\n",
       "      <td>1999.0</td>\n",
       "      <td>1</td>\n",
       "      <td>2</td>\n",
       "      <td>2000</td>\n",
       "      <td>60</td>\n",
       "      <td>...</td>\n",
       "      <td>1</td>\n",
       "      <td>4</td>\n",
       "      <td>1</td>\n",
       "      <td>3</td>\n",
       "      <td>1</td>\n",
       "      <td>12</td>\n",
       "      <td>1</td>\n",
       "      <td>0</td>\n",
       "      <td>13</td>\n",
       "      <td>2</td>\n",
       "    </tr>\n",
       "    <tr>\n",
       "      <th>1456</th>\n",
       "      <td>0</td>\n",
       "      <td>0</td>\n",
       "      <td>2073</td>\n",
       "      <td>2073</td>\n",
       "      <td>7</td>\n",
       "      <td>1978.0</td>\n",
       "      <td>2</td>\n",
       "      <td>2</td>\n",
       "      <td>1988</td>\n",
       "      <td>20</td>\n",
       "      <td>...</td>\n",
       "      <td>1</td>\n",
       "      <td>4</td>\n",
       "      <td>2</td>\n",
       "      <td>3</td>\n",
       "      <td>1</td>\n",
       "      <td>9</td>\n",
       "      <td>1</td>\n",
       "      <td>0</td>\n",
       "      <td>10</td>\n",
       "      <td>2</td>\n",
       "    </tr>\n",
       "    <tr>\n",
       "      <th>1457</th>\n",
       "      <td>2500</td>\n",
       "      <td>0</td>\n",
       "      <td>2340</td>\n",
       "      <td>1188</td>\n",
       "      <td>9</td>\n",
       "      <td>1941.0</td>\n",
       "      <td>2</td>\n",
       "      <td>1</td>\n",
       "      <td>2006</td>\n",
       "      <td>70</td>\n",
       "      <td>...</td>\n",
       "      <td>1</td>\n",
       "      <td>2</td>\n",
       "      <td>1</td>\n",
       "      <td>0</td>\n",
       "      <td>1</td>\n",
       "      <td>5</td>\n",
       "      <td>1</td>\n",
       "      <td>0</td>\n",
       "      <td>5</td>\n",
       "      <td>3</td>\n",
       "    </tr>\n",
       "    <tr>\n",
       "      <th>1458</th>\n",
       "      <td>0</td>\n",
       "      <td>0</td>\n",
       "      <td>1078</td>\n",
       "      <td>1078</td>\n",
       "      <td>5</td>\n",
       "      <td>1950.0</td>\n",
       "      <td>0</td>\n",
       "      <td>1</td>\n",
       "      <td>1996</td>\n",
       "      <td>20</td>\n",
       "      <td>...</td>\n",
       "      <td>1</td>\n",
       "      <td>-1</td>\n",
       "      <td>2</td>\n",
       "      <td>3</td>\n",
       "      <td>1</td>\n",
       "      <td>8</td>\n",
       "      <td>3</td>\n",
       "      <td>0</td>\n",
       "      <td>8</td>\n",
       "      <td>3</td>\n",
       "    </tr>\n",
       "    <tr>\n",
       "      <th>1459</th>\n",
       "      <td>0</td>\n",
       "      <td>0</td>\n",
       "      <td>1256</td>\n",
       "      <td>1256</td>\n",
       "      <td>6</td>\n",
       "      <td>1965.0</td>\n",
       "      <td>0</td>\n",
       "      <td>1</td>\n",
       "      <td>1965</td>\n",
       "      <td>20</td>\n",
       "      <td>...</td>\n",
       "      <td>1</td>\n",
       "      <td>-1</td>\n",
       "      <td>0</td>\n",
       "      <td>2</td>\n",
       "      <td>1</td>\n",
       "      <td>6</td>\n",
       "      <td>1</td>\n",
       "      <td>0</td>\n",
       "      <td>6</td>\n",
       "      <td>3</td>\n",
       "    </tr>\n",
       "  </tbody>\n",
       "</table>\n",
       "<p>1460 rows × 112 columns</p>\n",
       "</div>"
      ],
      "text/plain": [
       "      MiscVal  BsmtHalfBath  GrLivArea  1stFlrSF  TotRmsAbvGrd  GarageYrBlt  \\\n",
       "0           0             0       1710       856             8       2003.0   \n",
       "1           0             1       1262      1262             6       1976.0   \n",
       "2           0             0       1786       920             6       2001.0   \n",
       "3           0             0       1717       961             7       1998.0   \n",
       "4           0             0       2198      1145             9       2000.0   \n",
       "...       ...           ...        ...       ...           ...          ...   \n",
       "1455        0             0       1647       953             7       1999.0   \n",
       "1456        0             0       2073      2073             7       1978.0   \n",
       "1457     2500             0       2340      1188             9       1941.0   \n",
       "1458        0             0       1078      1078             5       1950.0   \n",
       "1459        0             0       1256      1256             6       1965.0   \n",
       "\n",
       "      Fireplaces  GarageCars  YearRemodAdd  MSSubClass  ...  Street  \\\n",
       "0              0           2          2003          60  ...       1   \n",
       "1              1           2          1976          20  ...       1   \n",
       "2              1           2          2002          60  ...       1   \n",
       "3              1           3          1970          70  ...       1   \n",
       "4              1           3          2000          60  ...       1   \n",
       "...          ...         ...           ...         ...  ...     ...   \n",
       "1455           1           2          2000          60  ...       1   \n",
       "1456           2           2          1988          20  ...       1   \n",
       "1457           2           1          2006          70  ...       1   \n",
       "1458           0           1          1996          20  ...       1   \n",
       "1459           0           1          1965          20  ...       1   \n",
       "\n",
       "      FireplaceQu  GarageFinish  ExterQual  GarageType  Exterior1st  \\\n",
       "0               4             1          2           1           12   \n",
       "1               4             1          3           1            8   \n",
       "2               4             1          2           1           12   \n",
       "3               2             2          3           5           13   \n",
       "4               4             1          2           1           12   \n",
       "...           ...           ...        ...         ...          ...   \n",
       "1455            4             1          3           1           12   \n",
       "1456            4             2          3           1            9   \n",
       "1457            2             1          0           1            5   \n",
       "1458           -1             2          3           1            8   \n",
       "1459           -1             0          2           1            6   \n",
       "\n",
       "      RoofStyle  Utilities  Exterior2nd  BsmtQual  \n",
       "0             1          0           13         2  \n",
       "1             1          0            8         2  \n",
       "2             1          0           13         2  \n",
       "3             1          0           15         3  \n",
       "4             1          0           13         2  \n",
       "...         ...        ...          ...       ...  \n",
       "1455          1          0           13         2  \n",
       "1456          1          0           10         2  \n",
       "1457          1          0            5         3  \n",
       "1458          3          0            8         3  \n",
       "1459          1          0            6         3  \n",
       "\n",
       "[1460 rows x 112 columns]"
      ]
     },
     "execution_count": 220,
     "metadata": {},
     "output_type": "execute_result"
    }
   ],
   "source": [
    "# Putting the encoding data together\n",
    "encoded_dataset=pd.concat([df_numerical, df_nominal, df_ordinal], axis=1)\n",
    "encoded_dataset"
   ]
  },
  {
   "cell_type": "markdown",
   "id": "604ba9aa",
   "metadata": {},
   "source": [
    "STANDARDIZING THE DATASET"
   ]
  },
  {
   "cell_type": "code",
   "execution_count": 221,
   "id": "642d7202",
   "metadata": {},
   "outputs": [
    {
     "data": {
      "text/html": [
       "<div>\n",
       "<style scoped>\n",
       "    .dataframe tbody tr th:only-of-type {\n",
       "        vertical-align: middle;\n",
       "    }\n",
       "\n",
       "    .dataframe tbody tr th {\n",
       "        vertical-align: top;\n",
       "    }\n",
       "\n",
       "    .dataframe thead th {\n",
       "        text-align: right;\n",
       "    }\n",
       "</style>\n",
       "<table border=\"1\" class=\"dataframe\">\n",
       "  <thead>\n",
       "    <tr style=\"text-align: right;\">\n",
       "      <th></th>\n",
       "      <th>SalePrice</th>\n",
       "    </tr>\n",
       "  </thead>\n",
       "  <tbody>\n",
       "    <tr>\n",
       "      <th>0</th>\n",
       "      <td>208500</td>\n",
       "    </tr>\n",
       "    <tr>\n",
       "      <th>1</th>\n",
       "      <td>181500</td>\n",
       "    </tr>\n",
       "    <tr>\n",
       "      <th>2</th>\n",
       "      <td>223500</td>\n",
       "    </tr>\n",
       "    <tr>\n",
       "      <th>3</th>\n",
       "      <td>140000</td>\n",
       "    </tr>\n",
       "    <tr>\n",
       "      <th>4</th>\n",
       "      <td>250000</td>\n",
       "    </tr>\n",
       "    <tr>\n",
       "      <th>...</th>\n",
       "      <td>...</td>\n",
       "    </tr>\n",
       "    <tr>\n",
       "      <th>1455</th>\n",
       "      <td>175000</td>\n",
       "    </tr>\n",
       "    <tr>\n",
       "      <th>1456</th>\n",
       "      <td>210000</td>\n",
       "    </tr>\n",
       "    <tr>\n",
       "      <th>1457</th>\n",
       "      <td>266500</td>\n",
       "    </tr>\n",
       "    <tr>\n",
       "      <th>1458</th>\n",
       "      <td>142125</td>\n",
       "    </tr>\n",
       "    <tr>\n",
       "      <th>1459</th>\n",
       "      <td>147500</td>\n",
       "    </tr>\n",
       "  </tbody>\n",
       "</table>\n",
       "<p>1460 rows × 1 columns</p>\n",
       "</div>"
      ],
      "text/plain": [
       "      SalePrice\n",
       "0        208500\n",
       "1        181500\n",
       "2        223500\n",
       "3        140000\n",
       "4        250000\n",
       "...         ...\n",
       "1455     175000\n",
       "1456     210000\n",
       "1457     266500\n",
       "1458     142125\n",
       "1459     147500\n",
       "\n",
       "[1460 rows x 1 columns]"
      ]
     },
     "execution_count": 221,
     "metadata": {},
     "output_type": "execute_result"
    }
   ],
   "source": [
    "encoded_dataset[target]"
   ]
  },
  {
   "cell_type": "code",
   "execution_count": 222,
   "id": "5d69d23d",
   "metadata": {},
   "outputs": [],
   "source": [
    "# Dropping the target\n",
    "x = encoded_dataset.drop('SalePrice', axis=1)\n",
    "y = dataset[target]"
   ]
  },
  {
   "cell_type": "code",
   "execution_count": 223,
   "id": "54190305",
   "metadata": {},
   "outputs": [],
   "source": [
    "# Convert data to numpy\n",
    "x = x.to_numpy()\n",
    "y = y.to_numpy()"
   ]
  },
  {
   "cell_type": "code",
   "execution_count": 224,
   "id": "442aac7f",
   "metadata": {},
   "outputs": [],
   "source": [
    "x = StandardScaler().fit_transform(x)\n",
    "y = StandardScaler().fit_transform(y)"
   ]
  },
  {
   "cell_type": "markdown",
   "id": "4e182324",
   "metadata": {},
   "source": [
    "FEATURE EXTRACTION USING PCA"
   ]
  },
  {
   "cell_type": "code",
   "execution_count": 225,
   "id": "f56d1adc",
   "metadata": {},
   "outputs": [],
   "source": [
    "pca = PCA(n_components=2)\n",
    "components = pca.fit_transform(x)"
   ]
  },
  {
   "cell_type": "code",
   "execution_count": 226,
   "id": "8cb02181",
   "metadata": {},
   "outputs": [
    {
     "data": {
      "text/plain": [
       "array([0.10115371, 0.0430646 ])"
      ]
     },
     "execution_count": 226,
     "metadata": {},
     "output_type": "execute_result"
    }
   ],
   "source": [
    "pca.explained_variance_ratio_"
   ]
  },
  {
   "cell_type": "code",
   "execution_count": 227,
   "id": "d6bb7999",
   "metadata": {},
   "outputs": [
    {
     "data": {
      "text/html": [
       "<div>\n",
       "<style scoped>\n",
       "    .dataframe tbody tr th:only-of-type {\n",
       "        vertical-align: middle;\n",
       "    }\n",
       "\n",
       "    .dataframe tbody tr th {\n",
       "        vertical-align: top;\n",
       "    }\n",
       "\n",
       "    .dataframe thead th {\n",
       "        text-align: right;\n",
       "    }\n",
       "</style>\n",
       "<table border=\"1\" class=\"dataframe\">\n",
       "  <thead>\n",
       "    <tr style=\"text-align: right;\">\n",
       "      <th></th>\n",
       "      <th>P1</th>\n",
       "      <th>P2</th>\n",
       "      <th>SalePrice</th>\n",
       "    </tr>\n",
       "  </thead>\n",
       "  <tbody>\n",
       "    <tr>\n",
       "      <th>0</th>\n",
       "      <td>2.410793</td>\n",
       "      <td>-1.329069</td>\n",
       "      <td>0.347273</td>\n",
       "    </tr>\n",
       "    <tr>\n",
       "      <th>1</th>\n",
       "      <td>0.434251</td>\n",
       "      <td>2.625499</td>\n",
       "      <td>0.007288</td>\n",
       "    </tr>\n",
       "    <tr>\n",
       "      <th>2</th>\n",
       "      <td>2.830702</td>\n",
       "      <td>-0.853922</td>\n",
       "      <td>0.536154</td>\n",
       "    </tr>\n",
       "    <tr>\n",
       "      <th>3</th>\n",
       "      <td>-1.361953</td>\n",
       "      <td>0.552901</td>\n",
       "      <td>-0.515281</td>\n",
       "    </tr>\n",
       "    <tr>\n",
       "      <th>4</th>\n",
       "      <td>5.314195</td>\n",
       "      <td>-0.221943</td>\n",
       "      <td>0.869843</td>\n",
       "    </tr>\n",
       "    <tr>\n",
       "      <th>...</th>\n",
       "      <td>...</td>\n",
       "      <td>...</td>\n",
       "      <td>...</td>\n",
       "    </tr>\n",
       "    <tr>\n",
       "      <th>1455</th>\n",
       "      <td>1.304305</td>\n",
       "      <td>-2.292131</td>\n",
       "      <td>-0.074560</td>\n",
       "    </tr>\n",
       "    <tr>\n",
       "      <th>1456</th>\n",
       "      <td>1.093538</td>\n",
       "      <td>3.176652</td>\n",
       "      <td>0.366161</td>\n",
       "    </tr>\n",
       "    <tr>\n",
       "      <th>1457</th>\n",
       "      <td>1.257548</td>\n",
       "      <td>-0.866427</td>\n",
       "      <td>1.077611</td>\n",
       "    </tr>\n",
       "    <tr>\n",
       "      <th>1458</th>\n",
       "      <td>-2.832902</td>\n",
       "      <td>3.180924</td>\n",
       "      <td>-0.488523</td>\n",
       "    </tr>\n",
       "    <tr>\n",
       "      <th>1459</th>\n",
       "      <td>-0.758919</td>\n",
       "      <td>2.680642</td>\n",
       "      <td>-0.420841</td>\n",
       "    </tr>\n",
       "  </tbody>\n",
       "</table>\n",
       "<p>1460 rows × 3 columns</p>\n",
       "</div>"
      ],
      "text/plain": [
       "            P1        P2  SalePrice\n",
       "0     2.410793 -1.329069   0.347273\n",
       "1     0.434251  2.625499   0.007288\n",
       "2     2.830702 -0.853922   0.536154\n",
       "3    -1.361953  0.552901  -0.515281\n",
       "4     5.314195 -0.221943   0.869843\n",
       "...        ...       ...        ...\n",
       "1455  1.304305 -2.292131  -0.074560\n",
       "1456  1.093538  3.176652   0.366161\n",
       "1457  1.257548 -0.866427   1.077611\n",
       "1458 -2.832902  3.180924  -0.488523\n",
       "1459 -0.758919  2.680642  -0.420841\n",
       "\n",
       "[1460 rows x 3 columns]"
      ]
     },
     "execution_count": 227,
     "metadata": {},
     "output_type": "execute_result"
    }
   ],
   "source": [
    "# New Dataset\n",
    "pca_dataset = pd.DataFrame(components, columns=['P1', 'P2'])\n",
    "target_col = pd.DataFrame(y, columns=['SalePrice'])\n",
    "new_dataset = pd.concat([pca_dataset, target_col], axis=1)\n",
    "new_dataset"
   ]
  },
  {
   "cell_type": "code",
   "execution_count": 228,
   "id": "93810949",
   "metadata": {},
   "outputs": [],
   "source": [
    "x =  components"
   ]
  },
  {
   "cell_type": "markdown",
   "id": "c1c9faed",
   "metadata": {},
   "source": [
    "FEATURE SELECTION USING L1"
   ]
  },
  {
   "cell_type": "code",
   "execution_count": 229,
   "id": "6bee8fb6",
   "metadata": {},
   "outputs": [
    {
     "name": "stderr",
     "output_type": "stream",
     "text": [
      "C:\\Users\\HP\\AppData\\Local\\Temp\\ipykernel_22616\\3656981051.py:1: FutureWarning: In a future version of pandas all arguments of DataFrame.drop except for the argument 'labels' will be keyword-only.\n",
      "  x = encoded_dataset.drop('SalePrice', 1)\n"
     ]
    }
   ],
   "source": [
    "x = encoded_dataset.drop('SalePrice', 1)\n",
    "y = encoded_dataset['SalePrice']\n",
    "regressor = LassoCV()\n",
    "regressor.fit(X, y)\n",
    "coef_col = pd.Series(regressor.coef_, index=x.columns)"
   ]
  },
  {
   "cell_type": "code",
   "execution_count": 230,
   "id": "3224affd",
   "metadata": {},
   "outputs": [
    {
     "data": {
      "text/plain": [
       "Text(0.5, 1.0, 'L1 Feature selection')"
      ]
     },
     "execution_count": 230,
     "metadata": {},
     "output_type": "execute_result"
    },
    {
     "data": {
      "image/png": "[encoded data removed]",
      "text/plain": [
       "<Figure size 1080x648 with 1 Axes>"
      ]
     },
     "metadata": {
      "needs_background": "light"
     },
     "output_type": "display_data"
    }
   ],
   "source": [
    "sorted_coef = coef_col.sort_values()\n",
    "plt.rcParams['figure.figsize'] = (15.0, 9.0)\n",
    "sorted_coef.plot(kind='barh')\n",
    "plt.title(\"L1 Feature selection\")"
   ]
  },
  {
   "cell_type": "code",
   "execution_count": 231,
   "id": "7a8033da",
   "metadata": {},
   "outputs": [
    {
     "name": "stdout",
     "output_type": "stream",
     "text": [
      "12 of 111 features were selected and  99 of 111 features were rejected\n"
     ]
    }
   ],
   "source": [
    "number_of_selected_features = sum(coef_col != 0)\n",
    "number_of_rejected_features = sum(coef_col == 0)\n",
    "features = number_of_selected_features + number_of_rejected_features\n",
    "print(number_of_selected_features, \"of\", features, \"features were selected and \", number_of_rejected_features, \"of\", features,\"features were rejected\")"
   ]
  },
  {
   "cell_type": "markdown",
   "id": "2b353535",
   "metadata": {},
   "source": [
    "TRAINING THE MODEL"
   ]
  },
  {
   "cell_type": "code",
   "execution_count": 232,
   "id": "bcb8ab29",
   "metadata": {},
   "outputs": [],
   "source": [
    "x = x.to_numpy()\n",
    "y = y.to_numpy()"
   ]
  },
  {
   "cell_type": "code",
   "execution_count": 233,
   "id": "45440a7b",
   "metadata": {},
   "outputs": [],
   "source": [
    "target = 'SalePrice'\n",
    "y = pd.DataFrame(dataset[target])"
   ]
  },
  {
   "cell_type": "code",
   "execution_count": 234,
   "id": "4c2d6060",
   "metadata": {},
   "outputs": [],
   "source": [
    "x = StandardScaler().fit_transform(x)\n",
    "y = StandardScaler().fit_transform(y)"
   ]
  },
  {
   "cell_type": "code",
   "execution_count": 235,
   "id": "ab3e64de",
   "metadata": {},
   "outputs": [],
   "source": [
    "pca2 = PCA(n_components=2)\n",
    "components_2=pca2.fit_transform(x)"
   ]
  },
  {
   "cell_type": "code",
   "execution_count": 236,
   "id": "185d3d1d",
   "metadata": {},
   "outputs": [],
   "source": [
    "x = components_2"
   ]
  },
  {
   "cell_type": "code",
   "execution_count": 237,
   "id": "90ba4727",
   "metadata": {},
   "outputs": [
    {
     "name": "stderr",
     "output_type": "stream",
     "text": [
      "C:\\Users\\HP\\anaconda3\\lib\\site-packages\\sklearn\\linear_model\\_coordinate_descent.py:1571: DataConversionWarning: A column-vector y was passed when a 1d array was expected. Please change the shape of y to (n_samples, ), for example using ravel().\n",
      "  y = column_or_1d(y, warn=True)\n"
     ]
    },
    {
     "data": {
      "text/plain": [
       "LassoCV()"
      ]
     },
     "execution_count": 237,
     "metadata": {},
     "output_type": "execute_result"
    }
   ],
   "source": [
    "regressor = LassoCV()\n",
    "regressor.fit(x, y)"
   ]
  },
  {
   "cell_type": "code",
   "execution_count": 238,
   "id": "643d7689",
   "metadata": {},
   "outputs": [
    {
     "data": {
      "text/plain": [
       "array([0.25351796, 0.01760871])"
      ]
     },
     "execution_count": 238,
     "metadata": {},
     "output_type": "execute_result"
    }
   ],
   "source": [
    "regressor.coef_"
   ]
  },
  {
   "cell_type": "code",
   "execution_count": 239,
   "id": "a3d70e15",
   "metadata": {},
   "outputs": [
    {
     "data": {
      "text/plain": [
       "9.177463880044703e-17"
      ]
     },
     "execution_count": 239,
     "metadata": {},
     "output_type": "execute_result"
    }
   ],
   "source": [
    "regressor.intercept_"
   ]
  },
  {
   "cell_type": "markdown",
   "id": "1a184bda",
   "metadata": {},
   "source": [
    "PLANE OF BEST FIT"
   ]
  },
  {
   "cell_type": "code",
   "execution_count": 240,
   "id": "9c2f9912",
   "metadata": {},
   "outputs": [
    {
     "data": {
      "text/html": [
       "<div>\n",
       "<style scoped>\n",
       "    .dataframe tbody tr th:only-of-type {\n",
       "        vertical-align: middle;\n",
       "    }\n",
       "\n",
       "    .dataframe tbody tr th {\n",
       "        vertical-align: top;\n",
       "    }\n",
       "\n",
       "    .dataframe thead th {\n",
       "        text-align: right;\n",
       "    }\n",
       "</style>\n",
       "<table border=\"1\" class=\"dataframe\">\n",
       "  <thead>\n",
       "    <tr style=\"text-align: right;\">\n",
       "      <th></th>\n",
       "      <th>P1</th>\n",
       "      <th>P2</th>\n",
       "      <th>SalePrice</th>\n",
       "    </tr>\n",
       "  </thead>\n",
       "  <tbody>\n",
       "    <tr>\n",
       "      <th>0</th>\n",
       "      <td>2.410792</td>\n",
       "      <td>-1.328547</td>\n",
       "      <td>0.347273</td>\n",
       "    </tr>\n",
       "    <tr>\n",
       "      <th>1</th>\n",
       "      <td>0.434250</td>\n",
       "      <td>2.623919</td>\n",
       "      <td>0.007288</td>\n",
       "    </tr>\n",
       "    <tr>\n",
       "      <th>2</th>\n",
       "      <td>2.830701</td>\n",
       "      <td>-0.853453</td>\n",
       "      <td>0.536154</td>\n",
       "    </tr>\n",
       "    <tr>\n",
       "      <th>3</th>\n",
       "      <td>-1.361953</td>\n",
       "      <td>0.553710</td>\n",
       "      <td>-0.515281</td>\n",
       "    </tr>\n",
       "    <tr>\n",
       "      <th>4</th>\n",
       "      <td>5.314192</td>\n",
       "      <td>-0.221799</td>\n",
       "      <td>0.869843</td>\n",
       "    </tr>\n",
       "    <tr>\n",
       "      <th>...</th>\n",
       "      <td>...</td>\n",
       "      <td>...</td>\n",
       "      <td>...</td>\n",
       "    </tr>\n",
       "    <tr>\n",
       "      <th>1455</th>\n",
       "      <td>1.304306</td>\n",
       "      <td>-2.291740</td>\n",
       "      <td>-0.074560</td>\n",
       "    </tr>\n",
       "    <tr>\n",
       "      <th>1456</th>\n",
       "      <td>1.093539</td>\n",
       "      <td>3.175807</td>\n",
       "      <td>0.366161</td>\n",
       "    </tr>\n",
       "    <tr>\n",
       "      <th>1457</th>\n",
       "      <td>1.257553</td>\n",
       "      <td>-0.865980</td>\n",
       "      <td>1.077611</td>\n",
       "    </tr>\n",
       "    <tr>\n",
       "      <th>1458</th>\n",
       "      <td>-2.832903</td>\n",
       "      <td>3.182336</td>\n",
       "      <td>-0.488523</td>\n",
       "    </tr>\n",
       "    <tr>\n",
       "      <th>1459</th>\n",
       "      <td>-0.758919</td>\n",
       "      <td>2.681614</td>\n",
       "      <td>-0.420841</td>\n",
       "    </tr>\n",
       "  </tbody>\n",
       "</table>\n",
       "<p>1460 rows × 3 columns</p>\n",
       "</div>"
      ],
      "text/plain": [
       "            P1        P2  SalePrice\n",
       "0     2.410792 -1.328547   0.347273\n",
       "1     0.434250  2.623919   0.007288\n",
       "2     2.830701 -0.853453   0.536154\n",
       "3    -1.361953  0.553710  -0.515281\n",
       "4     5.314192 -0.221799   0.869843\n",
       "...        ...       ...        ...\n",
       "1455  1.304306 -2.291740  -0.074560\n",
       "1456  1.093539  3.175807   0.366161\n",
       "1457  1.257553 -0.865980   1.077611\n",
       "1458 -2.832903  3.182336  -0.488523\n",
       "1459 -0.758919  2.681614  -0.420841\n",
       "\n",
       "[1460 rows x 3 columns]"
      ]
     },
     "execution_count": 240,
     "metadata": {},
     "output_type": "execute_result"
    }
   ],
   "source": [
    "pca_dataset_2 = pd.DataFrame(components_2,columns=['P1','P2'])\n",
    "target = pd.DataFrame(y,columns=['SalePrice'])\n",
    "new_data = pd.concat([pca_dataset_2, target],axis=1)\n",
    "new_data"
   ]
  },
  {
   "cell_type": "code",
   "execution_count": 241,
   "id": "49f71e36",
   "metadata": {},
   "outputs": [],
   "source": [
    "new_data_array = new_data.to_numpy()\n",
    "min_value = np.min(new_data_array, axis=0)\n",
    "max_value = np.max(new_data_array, axis=0)\n",
    "x_plot, y_plot = np.meshgrid(np.linspace(min_value[0], max_value[0], 20), np.linspace(min_value[1], max_value[1], 20))"
   ]
  },
  {
   "cell_type": "code",
   "execution_count": 242,
   "id": "02013ddc",
   "metadata": {},
   "outputs": [],
   "source": [
    "weight_1 = regressor.coef_[0]\n",
    "weight_2 = regressor.coef_[1]\n",
    "b = regressor.intercept_\n",
    "z_plot = weight_1 * x_plot + weight_2 * y_plot + b"
   ]
  },
  {
   "cell_type": "code",
   "execution_count": null,
   "id": "e810e4ac",
   "metadata": {},
   "outputs": [],
   "source": []
  },
  {
   "cell_type": "code",
   "execution_count": 243,
   "id": "c43c2b6b",
   "metadata": {},
   "outputs": [
    {
     "name": "stderr",
     "output_type": "stream",
     "text": [
      "C:\\Users\\HP\\AppData\\Local\\Temp\\ipykernel_22616\\1158008200.py:2: MatplotlibDeprecationWarning: Calling gca() with keyword arguments was deprecated in Matplotlib 3.4. Starting two minor releases later, gca() will take no keyword arguments. The gca() function should only be used to get the current axes, or if no axes exist, create new axes with default keyword arguments. To create a new axes with non-default arguments, use plt.axes() or plt.subplot().\n",
      "  x_a = figure.gca(projection='3d')\n"
     ]
    },
    {
     "data": {
      "text/plain": [
       "Text(0.5, 0.92, 'Plane of Best Fit')"
      ]
     },
     "execution_count": 243,
     "metadata": {},
     "output_type": "execute_result"
    },
    {
     "data": {
      "image/png": "[encoded data removed]",
      "text/plain": [
       "<Figure size 720x720 with 1 Axes>"
      ]
     },
     "metadata": {
      "needs_background": "light"
     },
     "output_type": "display_data"
    }
   ],
   "source": [
    "figure = plt.figure(figsize=(10,10))\n",
    "x_a = figure.gca(projection='3d')\n",
    "x_a.plot_surface(x_plot, y_plot, z_plot, rstride=1, cstride=1, alpha=0.9)\n",
    "x_a.scatter(new_data_array[:,0], new_data_array[:,1], new_data_array[:,2], c='r', s=50)\n",
    "plt.xlabel('P1')\n",
    "plt.ylabel('P2')\n",
    "x_a.set_zlabel('House Price in $')\n",
    "x_a.set_title(\"Plane of Best Fit\")"
   ]
  }
 ],
 "metadata": {
  "kernelspec": {
   "display_name": "Python 3 (ipykernel)",
   "language": "python",
   "name": "python3"
  },
  "language_info": {
   "codemirror_mode": {
    "name": "ipython",
    "version": 3
   },
   "file_extension": ".py",
   "mimetype": "text/x-python",
   "name": "python",
   "nbconvert_exporter": "python",
   "pygments_lexer": "ipython3",
   "version": "3.9.12"
  }
 },
 "nbformat": 4,
 "nbformat_minor": 5
}
